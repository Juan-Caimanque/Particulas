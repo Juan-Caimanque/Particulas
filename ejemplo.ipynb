{
 "cells": [
  {
   "cell_type": "markdown",
   "id": "6b5ba81f",
   "metadata": {},
   "source": [
    "Ejemplo de código"
   ]
  },
  {
   "cell_type": "code",
   "execution_count": null,
   "id": "21f5ecd6",
   "metadata": {},
   "outputs": [],
   "source": []
  }
 ],
 "metadata": {
  "kernelspec": {
   "display_name": "Python 3",
   "language": "python",
   "name": "python3"
  },
  "language_info": {
   "name": "python",
   "version": "3.12.3"
  }
 },
 "nbformat": 4,
 "nbformat_minor": 5
}
